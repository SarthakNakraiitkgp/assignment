{
 "cells": [
  {
   "cell_type": "markdown",
   "id": "6ba38544-e4e5-4f11-b06b-916aa0e8f10e",
   "metadata": {},
   "source": [
    "Q1. Explain Class and Object with respect to Object-Oriented Programming. Give a suitable example."
   ]
  },
  {
   "cell_type": "markdown",
   "id": "99fe7705-023b-4cd2-96e5-480b04e5b194",
   "metadata": {},
   "source": [
    "A class is considered as a blueprint of objects Ex. class bike and An object is called an instance of a class Ex. bike1=bike()"
   ]
  },
  {
   "cell_type": "code",
   "execution_count": 1,
   "id": "ee84d26b-2821-405c-bc87-e7e52de61898",
   "metadata": {},
   "outputs": [
    {
     "name": "stdout",
     "output_type": "stream",
     "text": [
      "Blu is 10 years old\n",
      "Woo is 15 years old\n"
     ]
    }
   ],
   "source": [
    "class bike:\n",
    "\n",
    "    # class attribute\n",
    "    name = \"\"\n",
    "    age = 0\n",
    "\n",
    "# create parrot1 object\n",
    "bike1 = bike()\n",
    "bike1.name = \"Blu\"\n",
    "bike1.age = 10\n",
    "\n",
    "# create another object parrot2\n",
    "bike2 = bike()\n",
    "bike2.name = \"Woo\"\n",
    "bike2.age = 15\n",
    "\n",
    "# access attributes\n",
    "print(f\"{bike1.name} is {bike1.age} years old\")\n",
    "print(f\"{bike2.name} is {bike2.age} years old\")"
   ]
  },
  {
   "cell_type": "markdown",
   "id": "b50c7951-1141-4e04-8ca3-f546e0d95b00",
   "metadata": {},
   "source": [
    "Q2. Name the four pillars of OOPs."
   ]
  },
  {
   "cell_type": "markdown",
   "id": "e6ffcd0a-1415-48a1-806f-3ac18ddb086d",
   "metadata": {},
   "source": [
    "The four pillars of OOPS are Inheritance, Polymorphism, Encapsulation and Abstraction"
   ]
  },
  {
   "cell_type": "markdown",
   "id": "81b8b268-8a50-40df-9cd1-929f0117582e",
   "metadata": {},
   "source": [
    "Q3.Explain why the __init__() function is used. Give a suitable example. "
   ]
  },
  {
   "cell_type": "markdown",
   "id": "dea018bc-6228-4e76-a122-7b299d16c526",
   "metadata": {},
   "source": [
    " Python uses the __init__ method as a constructor to initialize the data members when an object is created for the class.Generally, we do not call the init manually. It is automatically called when a new object is created. init method is only called manually in the case of inheritance.you can call the __init__() directly. For ex."
   ]
  },
  {
   "cell_type": "code",
   "execution_count": 1,
   "id": "9bbb93d1-8cfd-4763-9726-e341a8b91b2e",
   "metadata": {},
   "outputs": [
    {
     "name": "stdout",
     "output_type": "stream",
     "text": [
      "hello\n",
      "Python\n"
     ]
    }
   ],
   "source": [
    "class Foo:\n",
    "    def __init__(self, str):\n",
    "        self.str = str\n",
    " \n",
    " \n",
    "obj = Foo('hello')\n",
    "print(obj.str)\n",
    "Foo.__init__(obj, 'Python')\n",
    "print(obj.str)"
   ]
  },
  {
   "cell_type": "markdown",
   "id": "2fc5c90b-3dc2-4705-bbbf-09b58926ffec",
   "metadata": {},
   "source": [
    "In the above example, first we set the value of str linked to obj to ‘hello’ and then calling the __init__() directly we set the value of str to ‘Python’."
   ]
  },
  {
   "cell_type": "markdown",
   "id": "80d56485-e8a6-40c7-b7c4-b64224aee788",
   "metadata": {},
   "source": [
    "Q4. Why self is used in OOPs?"
   ]
  },
  {
   "cell_type": "markdown",
   "id": "dbc1ba2d-cbd4-4443-a6a3-c3bce26e373b",
   "metadata": {},
   "source": [
    "The self variable is used to represent the instance of the class which is often used in object-oriented programming. It works as a reference to the object. Python uses the self parameter to refer to instance attributes and methods of the class."
   ]
  },
  {
   "cell_type": "markdown",
   "id": "d7a7fcd4-411b-4e8b-86b1-1a24180b2d12",
   "metadata": {},
   "source": [
    "Q5. What is inheritance? Give an example for each type of inheritance."
   ]
  },
  {
   "cell_type": "markdown",
   "id": "0c88925e-5b70-4fe0-8945-b79eeca8515d",
   "metadata": {},
   "source": [
    "Inheritance is defined as the mechanism of inheriting the properties of the base class to the child class.There are five types of inheritance in Python:\n",
    "1.Single Inheritance: Single inheritance enables a derived class to inherit properties from a single parent class, thus enabling code reusability and the addition of new features to existing code.\n",
    "2.Multiple Inheritance: When a class can be derived from more than one base class this type of inheritance is called multiple inheritances.\n",
    "3.Multilevel Inheritance: In multilevel inheritance, features of the base class and the derived class are further inherited into the new derived class.\n",
    "4.Hierarchical Inheritance: When more than one derived class are created from a single base this type of inheritance is called hierarchical inheritance.\n",
    "5.Hybrid Inheritance: Inheritance consisting of multiple types of inheritance is called hybrid inheritance."
   ]
  },
  {
   "cell_type": "code",
   "execution_count": 2,
   "id": "f87c0e88-009f-44b4-9db9-427ebf3fdcc0",
   "metadata": {},
   "outputs": [
    {
     "name": "stdout",
     "output_type": "stream",
     "text": [
      "This function is in parent class.\n",
      "This function is in child class.\n"
     ]
    }
   ],
   "source": [
    "#Single Inheritance\n",
    "class Parent:\n",
    "    def func1(self):\n",
    "        print(\"This function is in parent class.\")\n",
    "class Child(Parent):\n",
    "    def func2(self):\n",
    "        print(\"This function is in child class.\")\n",
    "object = Child()\n",
    "object.func1()\n",
    "object.func2()"
   ]
  },
  {
   "cell_type": "code",
   "execution_count": 3,
   "id": "c2ab2f60-5fc7-4b73-934f-c85f2ab55e12",
   "metadata": {},
   "outputs": [
    {
     "name": "stdout",
     "output_type": "stream",
     "text": [
      "Father : RAM\n",
      "Mother : SITA\n"
     ]
    }
   ],
   "source": [
    "#Multiple Inheritance\n",
    "class Mother:\n",
    "    mothername = \"\"\n",
    "    def mother(self):\n",
    "        print(self.mothername)\n",
    "class Father:\n",
    "    fathername = \"\"\n",
    "    def father(self):\n",
    "        print(self.fathername)\n",
    "class Son(Mother, Father):\n",
    "    def parents(self):\n",
    "        print(\"Father :\", self.fathername)\n",
    "        print(\"Mother :\", self.mothername)\n",
    "s1 = Son()\n",
    "s1.fathername = \"RAM\"\n",
    "s1.mothername = \"SITA\"\n",
    "s1.parents()"
   ]
  },
  {
   "cell_type": "code",
   "execution_count": 4,
   "id": "69ebf750-064a-43a1-81dd-47dddcb8a514",
   "metadata": {},
   "outputs": [
    {
     "name": "stdout",
     "output_type": "stream",
     "text": [
      "Lal mani\n",
      "Grandfather name : Lal mani\n",
      "Father name : Rampal\n",
      "Son name : Prince\n"
     ]
    }
   ],
   "source": [
    "#Multilevel Inheritance\n",
    "class Grandfather:\n",
    "    def __init__(self, grandfathername):\n",
    "        self.grandfathername = grandfathername\n",
    "class Father(Grandfather):\n",
    "    def __init__(self, fathername, grandfathername):\n",
    "        self.fathername = fathername\n",
    "        Grandfather.__init__(self, grandfathername)\n",
    "class Son(Father):\n",
    "    def __init__(self, sonname, fathername, grandfathername):\n",
    "        self.sonname = sonname\n",
    "        Father.__init__(self, fathername, grandfathername)\n",
    "    def print_name(self):\n",
    "        print('Grandfather name :', self.grandfathername)\n",
    "        print(\"Father name :\", self.fathername)\n",
    "        print(\"Son name :\", self.sonname)\n",
    "s1 = Son('Prince', 'Rampal', 'Lal mani')\n",
    "print(s1.grandfathername)\n",
    "s1.print_name()"
   ]
  },
  {
   "cell_type": "code",
   "execution_count": 5,
   "id": "aa7fec0d-ebfc-422e-bc40-641b7d4c1a84",
   "metadata": {},
   "outputs": [
    {
     "name": "stdout",
     "output_type": "stream",
     "text": [
      "This function is in parent class.\n",
      "This function is in child 1.\n",
      "This function is in parent class.\n",
      "This function is in child 2.\n"
     ]
    }
   ],
   "source": [
    "#Hierarchical Inheritance\n",
    "class Parent:\n",
    "    def func1(self):\n",
    "        print(\"This function is in parent class.\")\n",
    "class Child1(Parent):\n",
    "    def func2(self):\n",
    "        print(\"This function is in child 1.\")\n",
    "class Child2(Parent):\n",
    "    def func3(self):\n",
    "        print(\"This function is in child 2.\")\n",
    "object1 = Child1()\n",
    "object2 = Child2()\n",
    "object1.func1()\n",
    "object1.func2()\n",
    "object2.func1()\n",
    "object2.func3()"
   ]
  },
  {
   "cell_type": "code",
   "execution_count": 6,
   "id": "f4d08b05-3b18-48f7-ae7b-920fbf75ec71",
   "metadata": {},
   "outputs": [
    {
     "name": "stdout",
     "output_type": "stream",
     "text": [
      "This function is in school.\n",
      "This function is in student 1. \n"
     ]
    }
   ],
   "source": [
    "#Hybrid Inheritance\n",
    "class School:\n",
    "    def func1(self):\n",
    "        print(\"This function is in school.\")\n",
    "class Student1(School):\n",
    "    def func2(self):\n",
    "        print(\"This function is in student 1. \")\n",
    "class Student2(School):\n",
    "    def func3(self):\n",
    "        print(\"This function is in student 2.\")\n",
    "class Student3(Student1, School):\n",
    "    def func4(self):\n",
    "        print(\"This function is in student 3.\")\n",
    "object = Student3()\n",
    "object.func1()\n",
    "object.func2()"
   ]
  },
  {
   "cell_type": "code",
   "execution_count": null,
   "id": "1e0364e4-c8e2-4a53-a8a2-582228f92169",
   "metadata": {},
   "outputs": [],
   "source": []
  }
 ],
 "metadata": {
  "kernelspec": {
   "display_name": "Python 3 (ipykernel)",
   "language": "python",
   "name": "python3"
  },
  "language_info": {
   "codemirror_mode": {
    "name": "ipython",
    "version": 3
   },
   "file_extension": ".py",
   "mimetype": "text/x-python",
   "name": "python",
   "nbconvert_exporter": "python",
   "pygments_lexer": "ipython3",
   "version": "3.10.8"
  }
 },
 "nbformat": 4,
 "nbformat_minor": 5
}
