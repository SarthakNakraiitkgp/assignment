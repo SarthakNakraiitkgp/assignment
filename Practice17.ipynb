{
 "cells": [
  {
   "cell_type": "markdown",
   "id": "1a9e4b60-f480-45e9-8ebe-758938ba8d09",
   "metadata": {},
   "source": [
    "Q1. What is an API? Give an example, where an API is used in real life."
   ]
  },
  {
   "cell_type": "markdown",
   "id": "a66d3d4c-97ac-42d0-946a-e3b6ff1a2868",
   "metadata": {},
   "source": [
    "API stands for application programming interface, it's a set of defined rules that explain how computers or applications communicate with one another.\n",
    "Google Maps and weather forcast are real life examples."
   ]
  },
  {
   "cell_type": "markdown",
   "id": "471db1eb-cd99-44cb-9db3-12a77fb6824a",
   "metadata": {},
   "source": [
    "Q2. Give advantages and disadvantages of using API."
   ]
  },
  {
   "cell_type": "markdown",
   "id": "48b618c4-6b8e-4e42-89f1-26c203ea3a7b",
   "metadata": {},
   "source": [
    "Advantages:\n",
    "1.Automation\n",
    "2.Developer efficiency and innovation\n",
    "3.Improved value proposition\n",
    "Disadvantages:\n",
    "1.Creating API is a very time-consuming process\n",
    "2.A fixed scale is necessary.\n",
    "3.Maintenance cost is very high"
   ]
  },
  {
   "cell_type": "markdown",
   "id": "62f0e0e9-7c5e-4476-aec1-8420228d130d",
   "metadata": {},
   "source": [
    "Q3. What is a Web API? Differentiate between API and Web API."
   ]
  },
  {
   "cell_type": "markdown",
   "id": "1b06278f-a2e5-45f4-aa1c-0015f03d9132",
   "metadata": {},
   "source": [
    " Web API as the name suggests, is an API over the web which can be accessed using HTTP protocol. \n",
    " Both APIs and web API are technologies that enable the transfer of data between separate software applications. API is an interface that exposes an application's data to outside software, whereas web api are one type of API with stricter requirements, api uses http whereas API uses tcp"
   ]
  },
  {
   "cell_type": "markdown",
   "id": "38b7a7aa-e323-48eb-8601-d9489175dc75",
   "metadata": {},
   "source": [
    "Q4. Explain REST and SOAP Architecture. Mention shortcomings of SOAP."
   ]
  },
  {
   "cell_type": "markdown",
   "id": "fd40d434-b654-40a4-a39e-132924eca666",
   "metadata": {},
   "source": [
    "Representational state transfer (REST) is a software architectural style that describes the architecture of the Web. SOAP (Simple Object Access Protocol) is a message protocol that enables the distributed elements of an application to communicate.\n",
    "Shortcomings: The Soap uses only XML format. It is slow and consumes more bandwidth and resources"
   ]
  },
  {
   "cell_type": "markdown",
   "id": "b1af39f0-9749-44e9-9869-debcd5cc5a2f",
   "metadata": {},
   "source": [
    "Q5. Differentiate between REST and SOAP."
   ]
  },
  {
   "cell_type": "markdown",
   "id": "a28e0132-05b5-4a61-b729-14f26563e293",
   "metadata": {},
   "source": [
    "REST is a set of guidelines that offers flexible implementation, whereas SOAP is a protocol with specific requirements like XML messaging. An API is designed to expose certain aspects of an application's business logic on a server, and SOAP uses a service interface to do this while REST uses URIs. SOAP is a protocol, it defines its own security measures. REST only inherits the security measures based on what protocol it uses for the implementation. "
   ]
  }
 ],
 "metadata": {
  "kernelspec": {
   "display_name": "Python 3 (ipykernel)",
   "language": "python",
   "name": "python3"
  },
  "language_info": {
   "codemirror_mode": {
    "name": "ipython",
    "version": 3
   },
   "file_extension": ".py",
   "mimetype": "text/x-python",
   "name": "python",
   "nbconvert_exporter": "python",
   "pygments_lexer": "ipython3",
   "version": "3.10.8"
  }
 },
 "nbformat": 4,
 "nbformat_minor": 5
}
