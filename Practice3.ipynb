{
 "cells": [
  {
   "cell_type": "markdown",
   "id": "de2d130c-2e60-4d71-abb9-e7bf9aaecfaa",
   "metadata": {},
   "source": [
    "1. For loop is used when the numbers of iterations is already known. syntax of for loop is \"for\". In for loop you don't have to increment the value of i in different set of loop.\n",
    "while loop is used when you have to execute a set of code for indefinite times until the condition comes out to be false, in while loop when you have started a loop you have to implement condition to increment the value. Example of both cases are :"
   ]
  },
  {
   "cell_type": "code",
   "execution_count": 1,
   "id": "1c2397f2-fb93-4b84-8815-759fa15d6518",
   "metadata": {},
   "outputs": [
    {
     "name": "stdout",
     "output_type": "stream",
     "text": [
      "0\n",
      "1\n",
      "2\n",
      "3\n",
      "4\n",
      "5\n",
      "6\n",
      "7\n",
      "8\n",
      "9\n"
     ]
    }
   ],
   "source": [
    "#for loop\n",
    "i=1\n",
    "for i in range(10):\n",
    "    print(i)"
   ]
  },
  {
   "cell_type": "code",
   "execution_count": 2,
   "id": "1fe821c0-15c9-478c-8dbd-501f20c76e9c",
   "metadata": {},
   "outputs": [
    {
     "name": "stdout",
     "output_type": "stream",
     "text": [
      "1\n",
      "2\n",
      "3\n",
      "4\n",
      "5\n",
      "6\n",
      "7\n",
      "8\n",
      "9\n"
     ]
    }
   ],
   "source": [
    "#while loop\n",
    "i=1\n",
    "while i<10:\n",
    "    print(i)\n",
    "    i+=1"
   ]
  },
  {
   "cell_type": "markdown",
   "id": "e5272629-b939-492d-be43-0ffbcff875f0",
   "metadata": {},
   "source": [
    "2. Write a python program to print the sum and product of the first 10 natural numbers using for\n",
    "and while loop."
   ]
  },
  {
   "cell_type": "code",
   "execution_count": 6,
   "id": "6039837b-902a-4760-834a-0a59b4ea7ab0",
   "metadata": {},
   "outputs": [
    {
     "name": "stdout",
     "output_type": "stream",
     "text": [
      "the sum of first 10 natural numbers:  55\n",
      "the product of first 10 natural numbers:  3628800\n"
     ]
    }
   ],
   "source": [
    "#for loop \n",
    "add=0\n",
    "prod=1\n",
    "for i in range(1,11):\n",
    "    add+=i\n",
    "    prod*=i\n",
    "print(\"the sum of first 10 natural numbers: \",add)\n",
    "print(\"the product of first 10 natural numbers: \",prod)"
   ]
  },
  {
   "cell_type": "code",
   "execution_count": 7,
   "id": "a5f20ae2-67b6-4fb3-884e-a4c43d076c5c",
   "metadata": {},
   "outputs": [
    {
     "name": "stdout",
     "output_type": "stream",
     "text": [
      "the sum of first 10 natural numbers: 55\n",
      "the product of first 10 natural numbers: 3628800\n"
     ]
    }
   ],
   "source": [
    "#while loop\n",
    "add=0\n",
    "prod=1\n",
    "i=1\n",
    "while i<=10:\n",
    "    add+=i\n",
    "    prod*=i\n",
    "    i+=1\n",
    "print(\"the sum of first 10 natural numbers:\",add)\n",
    "print(\"the product of first 10 natural numbers:\",prod)"
   ]
  },
  {
   "cell_type": "markdown",
   "id": "ead9a7d5-8bcf-459f-86f9-ec4caa0ec3ff",
   "metadata": {},
   "source": [
    "3. Electricity bill "
   ]
  },
  {
   "cell_type": "code",
   "execution_count": 1,
   "id": "d8b92866-5eb1-4a77-bed3-df3339680880",
   "metadata": {},
   "outputs": [
    {
     "name": "stdin",
     "output_type": "stream",
     "text": [
      "enter the unit of electricity  310\n"
     ]
    },
    {
     "name": "stdout",
     "output_type": "stream",
     "text": [
      "2250.0\n"
     ]
    }
   ],
   "source": [
    "unit=int(input(\"enter the unit of electricity \"))\n",
    "if unit<=100:\n",
    "    print((unit)*4.5)\n",
    "elif unit<=200:\n",
    "    print(100*4.5+(unit-100)*6)\n",
    "elif unit<=300:\n",
    "    print(100*4.5+100*6+(unit-200)*10)\n",
    "else:\n",
    "    print(100*4.5+100*6+100*10+(unit-300)*20)"
   ]
  },
  {
   "cell_type": "markdown",
   "id": "c4e870be-54c4-4968-b22b-702aaf7f5b55",
   "metadata": {},
   "source": [
    "4. Create a list of numbers from 1 to 100. Use for loop and while loop to calculate the cube of each\n",
    "number and if the cube of that number is divisible by 4 or 5 then append that number in a list and print\n",
    "that list."
   ]
  },
  {
   "cell_type": "code",
   "execution_count": 2,
   "id": "85d643ea-21b9-49f9-b474-5fd2bc0ccff2",
   "metadata": {},
   "outputs": [
    {
     "name": "stdout",
     "output_type": "stream",
     "text": [
      "[2, 4, 5, 6, 8, 10, 12, 14, 15, 16, 18, 20, 22, 24, 25, 26, 28, 30, 32, 34, 35, 36, 38, 40, 42, 44, 45, 46, 48, 50, 52, 54, 55, 56, 58, 60, 62, 64, 65, 66, 68, 70, 72, 74, 75, 76, 78, 80, 82, 84, 85, 86, 88, 90, 92, 94, 95, 96, 98, 100]\n"
     ]
    }
   ],
   "source": [
    "#for loop\n",
    "l=list(range(1,101))\n",
    "l2=[]\n",
    "for i in l:\n",
    "    if i**3 % 4 == 0 or i**3 % 5 == 0:\n",
    "        l2.append(i)\n",
    "print(l2)\n",
    "    \n",
    "            \n",
    "            "
   ]
  },
  {
   "cell_type": "code",
   "execution_count": 1,
   "id": "07311197-ac9e-43e9-a636-b01d884ed802",
   "metadata": {},
   "outputs": [
    {
     "name": "stdout",
     "output_type": "stream",
     "text": [
      "[2, 4, 5, 6, 8, 10, 12, 14, 15, 16, 18, 20, 22, 24, 25, 26, 28, 30, 32, 34, 35, 36, 38, 40, 42, 44, 45, 46, 48, 50, 52, 54, 55, 56, 58, 60, 62, 64, 65, 66, 68, 70, 72, 74, 75, 76, 78, 80, 82, 84, 85, 86, 88, 90, 92, 94, 95, 96, 98, 100]\n"
     ]
    }
   ],
   "source": [
    "#while loop\n",
    "l=list(range(1,101))\n",
    "l1=[]\n",
    "i=1\n",
    "while i<=100:\n",
    "    if i**3%4==0 or i**3%5==0:\n",
    "        l1.append(i)\n",
    "    i+=1\n",
    "print(l1)"
   ]
  },
  {
   "cell_type": "markdown",
   "id": "8e8234b1-9aaa-40c2-8ea5-417573dfb221",
   "metadata": {},
   "source": [
    "5. Write a program to filter count vowels in the below-given string.\n",
    "string = \"I want to become a data scientist\""
   ]
  },
  {
   "cell_type": "code",
   "execution_count": 7,
   "id": "38d67b42-1abb-41cf-aaf5-3b1dddaea5b1",
   "metadata": {},
   "outputs": [
    {
     "name": "stdout",
     "output_type": "stream",
     "text": [
      "12\n"
     ]
    }
   ],
   "source": [
    "s=\"I want to become a data scientist\"\n",
    "count=0\n",
    "for i in s.lower():\n",
    "    if i in  [\"a\",\"e\",\"i\",\"o\",\"u\"]:\n",
    "        count+=1\n",
    "print(count)"
   ]
  },
  {
   "cell_type": "code",
   "execution_count": null,
   "id": "908ab0a5-cf97-4039-ab43-58c24eee4126",
   "metadata": {},
   "outputs": [],
   "source": []
  }
 ],
 "metadata": {
  "kernelspec": {
   "display_name": "Python 3 (ipykernel)",
   "language": "python",
   "name": "python3"
  },
  "language_info": {
   "codemirror_mode": {
    "name": "ipython",
    "version": 3
   },
   "file_extension": ".py",
   "mimetype": "text/x-python",
   "name": "python",
   "nbconvert_exporter": "python",
   "pygments_lexer": "ipython3",
   "version": "3.10.8"
  }
 },
 "nbformat": 4,
 "nbformat_minor": 5
}
